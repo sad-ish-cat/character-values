{
 "cells": [
  {
   "cell_type": "code",
   "execution_count": 203,
   "metadata": {},
   "outputs": [],
   "source": [
    "import csv"
   ]
  },
  {
   "cell_type": "code",
   "execution_count": 202,
   "metadata": {},
   "outputs": [
    {
     "name": "stdout",
     "output_type": "stream",
     "text": [
      "ERROR: unknown command \"import\"\n",
      "Note: you may need to restart the kernel to use updated packages.\n"
     ]
    }
   ],
   "source": [
    "pip import dill "
   ]
  },
  {
   "cell_type": "markdown",
   "metadata": {},
   "source": [
    "# Code for generating symmetric character table"
   ]
  },
  {
   "cell_type": "code",
   "execution_count": null,
   "metadata": {
    "scrolled": true
   },
   "outputs": [],
   "source": [
    "\n",
    "n = 7\n",
    "partitions = list(Partitions(n))\n",
    "num_partitions = len(partitions)\n",
    "\n",
    "#rearranging partitions so that partitions[num_partitions - 1 - i].conjugate = partitions[i]\n",
    "for i in range(num_partitions) : \n",
    "    partitions[i] = Partition(partitions[num_partitions - 1 - i]).conjugate()\n",
    "\n",
    "m = matrix([[symmetrica.charvalue(irred, cls) for cls in partitions] for irred in partitions])"
   ]
  },
  {
   "cell_type": "code",
   "execution_count": null,
   "metadata": {},
   "outputs": [],
   "source": [
    "\n",
    "m"
   ]
  },
  {
   "cell_type": "code",
   "execution_count": 94,
   "metadata": {},
   "outputs": [
    {
     "data": {
      "text/plain": [
       "\\left(\\begin{array}{rrrrrrrrrrrrrrrrrrrrrr}\n",
       "1 & 1 & 1 & 1 & 1 & 1 & 1 & 1 & 1 & 1 & 1 & 1 & 1 & 1 & 1 & 1 & 1 & 1 & 1 & 1 & 1 & 1 \\\\\n",
       "-1 & 0 & -1 & -1 & -1 & 1 & 0 & 0 & -1 & -1 & 2 & 3 & -1 & 1 & 0 & 2 & 4 & -1 & 1 & 3 & 5 & 7 \\\\\n",
       "0 & -1 & 1 & 0 & 0 & -1 & 0 & -1 & 2 & 1 & 0 & 2 & 1 & -1 & 1 & 1 & 5 & 4 & 2 & 4 & 10 & 20 \\\\\n",
       "0 & 0 & -1 & 1 & 0 & -1 & 0 & 1 & -2 & 1 & -2 & -2 & 1 & 1 & 1 & 1 & 1 & -4 & 2 & 4 & 10 & 28 \\\\\n",
       "0 & 0 & 0 & -1 & 2 & 0 & -1 & 1 & 2 & -2 & -1 & -2 & -2 & 2 & -1 & 1 & -1 & 6 & 0 & 2 & 4 & 14 \\\\\n",
       "1 & 0 & 0 & 1 & 1 & 0 & -1 & 0 & -1 & 0 & 1 & 3 & 0 & 0 & -2 & 0 & 6 & -3 & -3 & 1 & 9 & 21 \\\\\n",
       "0 & 1 & 0 & -1 & 0 & 0 & 1 & 0 & 0 & -2 & -1 & 0 & -2 & -2 & 0 & -2 & 4 & 0 & 0 & 0 & 16 & 64 \\\\\n",
       "0 & 0 & 1 & 0 & -2 & 1 & 0 & -1 & 0 & 1 & 0 & -4 & 1 & 1 & -1 & 1 & -5 & -2 & -2 & 2 & 10 & 70 \\\\\n",
       "0 & 0 & -1 & 1 & 0 & 1 & -1 & 0 & 0 & 1 & 1 & 0 & 1 & -1 & 0 & -2 & -4 & 8 & 4 & 0 & 4 & 56 \\\\\n",
       "0 & 0 & 0 & -1 & 2 & 0 & 0 & 0 & 0 & 0 & 2 & 0 & 0 & 0 & 2 & 0 & -6 & -6 & 0 & 2 & 0 & 42 \\\\\n",
       "-1 & 0 & 0 & 0 & -1 & 0 & 0 & 1 & 1 & 2 & 0 & 1 & 2 & 2 & 1 & -1 & 5 & 3 & -3 & -5 & 5 & 35 \\\\\n",
       "1 & 0 & 0 & 0 & -1 & 0 & 0 & -1 & -1 & -2 & 0 & -1 & -2 & 2 & 1 & 1 & 5 & 3 & 3 & -5 & -5 & 35 \\\\\n",
       "0 & 0 & 0 & -1 & 2 & 0 & 0 & 0 & 0 & 0 & 2 & 0 & 0 & 0 & 2 & 0 & -6 & -6 & 0 & 2 & 0 & 42 \\\\\n",
       "0 & 0 & -1 & 1 & 0 & -1 & 1 & 0 & 0 & -1 & 1 & 0 & -1 & -1 & 0 & 2 & -4 & 8 & -4 & 0 & -4 & 56 \\\\\n",
       "0 & 0 & 1 & 0 & -2 & -1 & 0 & 1 & 0 & -1 & 0 & 4 & -1 & 1 & -1 & -1 & -5 & -2 & 2 & 2 & -10 & 70 \\\\\n",
       "0 & 1 & 0 & -1 & 0 & 0 & -1 & 0 & 0 & 2 & -1 & 0 & 2 & -2 & 0 & 2 & 4 & 0 & 0 & 0 & -16 & 64 \\\\\n",
       "-1 & 0 & 0 & 1 & 1 & 0 & 1 & 0 & 1 & 0 & 1 & -3 & 0 & 0 & -2 & 0 & 6 & -3 & 3 & 1 & -9 & 21 \\\\\n",
       "0 & 0 & 0 & -1 & 2 & 0 & 1 & -1 & -2 & 2 & -1 & 2 & 2 & 2 & -1 & -1 & -1 & 6 & 0 & 2 & -4 & 14 \\\\\n",
       "0 & 0 & -1 & 1 & 0 & 1 & 0 & -1 & 2 & -1 & -2 & 2 & -1 & 1 & 1 & -1 & 1 & -4 & -2 & 4 & -10 & 28 \\\\\n",
       "0 & -1 & 1 & 0 & 0 & 1 & 0 & 1 & -2 & -1 & 0 & -2 & -1 & -1 & 1 & -1 & 5 & 4 & -2 & 4 & -10 & 20 \\\\\n",
       "1 & 0 & -1 & -1 & -1 & -1 & 0 & 0 & 1 & 1 & 2 & -3 & 1 & 1 & 0 & -2 & 4 & -1 & -1 & 3 & -5 & 7 \\\\\n",
       "-1 & 1 & 1 & 1 & 1 & -1 & -1 & -1 & -1 & -1 & 1 & -1 & -1 & 1 & 1 & -1 & 1 & 1 & -1 & 1 & -1 & 1\n",
       "\\end{array}\\right)"
      ]
     },
     "execution_count": 94,
     "metadata": {},
     "output_type": "execute_result"
    }
   ],
   "source": [
    "latex(m)"
   ]
  },
  {
   "cell_type": "code",
   "execution_count": 95,
   "metadata": {},
   "outputs": [
    {
     "data": {
      "text/plain": [
       "[[8],\n",
       " [7, 1],\n",
       " [6, 2],\n",
       " [5, 3],\n",
       " [4, 4],\n",
       " [6, 1, 1],\n",
       " [5, 2, 1],\n",
       " [4, 3, 1],\n",
       " [4, 2, 2],\n",
       " [3, 3, 2],\n",
       " [5, 1, 1, 1],\n",
       " [4, 1, 1, 1, 1],\n",
       " [3, 3, 2],\n",
       " [3, 3, 1, 1],\n",
       " [3, 2, 2, 1],\n",
       " [3, 2, 1, 1, 1],\n",
       " [3, 1, 1, 1, 1, 1],\n",
       " [2, 2, 2, 2],\n",
       " [2, 2, 2, 1, 1],\n",
       " [2, 2, 1, 1, 1, 1],\n",
       " [2, 1, 1, 1, 1, 1, 1],\n",
       " [1, 1, 1, 1, 1, 1, 1, 1]]"
      ]
     },
     "execution_count": 95,
     "metadata": {},
     "output_type": "execute_result"
    }
   ],
   "source": [
    "partitions"
   ]
  },
  {
   "cell_type": "code",
   "execution_count": 96,
   "metadata": {},
   "outputs": [
    {
     "data": {
      "text/plain": [
       "'[8] & [7, 1] & [6, 2] & [5, 3] & [4, 4] & [6, 1, 1] & [5, 2, 1] & [4, 3, 1] & [4, 2, 2] & [3, 3, 2] & [5, 1, 1, 1] & [4, 1, 1, 1, 1] & [3, 3, 2] & [3, 3, 1, 1] & [3, 2, 2, 1] & [3, 2, 1, 1, 1] & [3, 1, 1, 1, 1, 1] & [2, 2, 2, 2] & [2, 2, 2, 1, 1] & [2, 2, 1, 1, 1, 1] & [2, 1, 1, 1, 1, 1, 1] & [1, 1, 1, 1, 1, 1, 1, 1]'"
      ]
     },
     "execution_count": 96,
     "metadata": {},
     "output_type": "execute_result"
    }
   ],
   "source": [
    "col_header_string = str(partitions[0])\n",
    "for i in range(1, num_partitions) : \n",
    "    col_header_string +=  ' & ' + str(partitions[i])\n",
    "col_header_string"
   ]
  },
  {
   "cell_type": "markdown",
   "metadata": {},
   "source": [
    "# Code for finding the character tables mod 4\n"
   ]
  },
  {
   "cell_type": "code",
   "execution_count": 98,
   "metadata": {},
   "outputs": [
    {
     "data": {
      "text/plain": [
       "'[1 1 1 1 1 1 1 1 1 1 1 1 1 1 1 1 1 1 1 1 1 1]\\n[3 0 3 3 3 1 0 0 3 3 2 3 3 1 0 2 0 3 1 3 1 3]\\n[0 3 1 0 0 3 0 3 2 1 0 2 1 3 1 1 1 0 2 0 2 0]\\n[0 0 3 1 0 3 0 1 2 1 2 2 1 1 1 1 1 0 2 0 2 0]\\n[0 0 0 3 2 0 3 1 2 2 3 2 2 2 3 1 3 2 0 2 0 2]\\n[1 0 0 1 1 0 3 0 3 0 1 3 0 0 2 0 2 1 1 1 1 1]\\n[0 1 0 3 0 0 1 0 0 2 3 0 2 2 0 2 0 0 0 0 0 0]\\n[0 0 1 0 2 1 0 3 0 1 0 0 1 1 3 1 3 2 2 2 2 2]\\n[0 0 3 1 0 1 3 0 0 1 1 0 1 3 0 2 0 0 0 0 0 0]\\n[0 0 0 3 2 0 0 0 0 0 2 0 0 0 2 0 2 2 0 2 0 2]\\n[3 0 0 0 3 0 0 1 1 2 0 1 2 2 1 3 1 3 1 3 1 3]\\n[1 0 0 0 3 0 0 3 3 2 0 3 2 2 1 1 1 3 3 3 3 3]\\n[0 0 0 3 2 0 0 0 0 0 2 0 0 0 2 0 2 2 0 2 0 2]\\n[0 0 3 1 0 3 1 0 0 3 1 0 3 3 0 2 0 0 0 0 0 0]\\n[0 0 1 0 2 3 0 1 0 3 0 0 3 1 3 3 3 2 2 2 2 2]\\n[0 1 0 3 0 0 3 0 0 2 3 0 2 2 0 2 0 0 0 0 0 0]\\n[3 0 0 1 1 0 1 0 1 0 1 1 0 0 2 0 2 1 3 1 3 1]\\n[0 0 0 3 2 0 1 3 2 2 3 2 2 2 3 3 3 2 0 2 0 2]\\n[0 0 3 1 0 1 0 3 2 3 2 2 3 1 1 3 1 0 2 0 2 0]\\n[0 3 1 0 0 1 0 1 2 3 0 2 3 3 1 3 1 0 2 0 2 0]\\n[1 0 3 3 3 3 0 0 1 1 2 1 1 1 0 2 0 3 3 3 3 3]\\n[3 1 1 1 1 3 3 3 3 3 1 3 3 1 1 3 1 1 3 1 3 1]'"
      ]
     },
     "execution_count": 98,
     "metadata": {},
     "output_type": "execute_result"
    }
   ],
   "source": [
    "chartable_mod_4 = matrix(ZZ.quotient(4), m); chartable_mod_4.str()"
   ]
  },
  {
   "cell_type": "code",
   "execution_count": 2,
   "metadata": {},
   "outputs": [],
   "source": []
  },
  {
   "cell_type": "code",
   "execution_count": 99,
   "metadata": {},
   "outputs": [],
   "source": [
    "num_symm_groups = 27\n",
    "# function that returns a character table for S_n whose rows are symmetric about the center, mod 4\n",
    "def nth_symm_chartable(n) : \n",
    "    partitions = list(Partitions(n))\n",
    "    num_partitions = len(partitions)\n",
    "\n",
    "    for i in range(num_partitions) : \n",
    "        partitions[i] = Partition(partitions[num_partitions - 1 - i]).conjugate()\n",
    "\n",
    "    return matrix(ZZ, [[symmetrica.charvalue(irred, cls) for cls in partitions] for irred in partitions])\n",
    "\n",
    "char_table_list = []\n",
    "for n in range(1, num_symm_groups) : \n",
    "    char_table_list.append(nth_symm_chartable(n))\n",
    "\n"
   ]
  },
  {
   "cell_type": "code",
   "execution_count": 234,
   "metadata": {},
   "outputs": [],
   "source": [
    "# residue calculator returns the list of the numbers \n",
    "def residue_calculator(n, m) : \n",
    "  A = matrix(ZZ.quotient(m), char_table_list[n - 1]) \n",
    "  num_entries = len(A.columns())**2 \n",
    "  residues_list = [0 for i in range(m)] \n",
    "  count = 0 \n",
    "  for j in A : \n",
    "      for k in j : \n",
    "          residues_list[k] += 1\n",
    "  for i in range(m) : \n",
    "    residues_list[i] = residues_list[i] / num_entries\n",
    "  return residues_list \n",
    "\n",
    "proportions_list = []\n",
    "\n",
    "# fills the residues list - each item of the list, from n = 1 to n = 15\n",
    "for n in range(1, 25) : \n",
    "  single_prop_list = []\n",
    "  for m in [4,5,6,7,8,9] :\n",
    "#   for m in [4] :\n",
    "    single_prop_list.append(residue_calculator(n, m))\n",
    "  proportions_list.append(single_prop_list)\n"
   ]
  },
  {
   "cell_type": "code",
   "execution_count": 229,
   "metadata": {},
   "outputs": [
    {
     "data": {
      "text/plain": [
       "[[[0, 1, 0, 0],\n",
       "  [0, 1, 0, 0, 0],\n",
       "  [0, 1, 0, 0, 0, 0],\n",
       "  [0, 1, 0, 0, 0, 0, 0],\n",
       "  [0, 1, 0, 0, 0, 0, 0, 0]],\n",
       " [[0, 3/4, 0, 1/4],\n",
       "  [0, 3/4, 0, 0, 1/4],\n",
       "  [0, 3/4, 0, 0, 0, 1/4],\n",
       "  [0, 3/4, 0, 0, 0, 0, 1/4],\n",
       "  [0, 3/4, 0, 0, 0, 0, 0, 1/4]],\n",
       " [[1/9, 5/9, 1/9, 2/9],\n",
       "  [1/9, 5/9, 1/9, 0, 2/9],\n",
       "  [1/9, 5/9, 1/9, 0, 0, 2/9],\n",
       "  [1/9, 5/9, 1/9, 0, 0, 0, 2/9],\n",
       "  [1/9, 5/9, 1/9, 0, 0, 0, 0, 2/9]],\n",
       " [[4/25, 2/5, 2/25, 9/25],\n",
       "  [4/25, 2/5, 2/25, 2/25, 7/25],\n",
       "  [4/25, 2/5, 2/25, 2/25, 0, 7/25],\n",
       "  [4/25, 2/5, 2/25, 2/25, 0, 0, 7/25],\n",
       "  [4/25, 2/5, 2/25, 2/25, 0, 0, 0, 7/25]],\n",
       " [[12/49, 22/49, 4/49, 11/49],\n",
       "  [12/49, 3/7, 1/49, 2/49, 13/49],\n",
       "  [11/49, 20/49, 1/49, 0, 4/49, 13/49],\n",
       "  [10/49, 20/49, 1/49, 0, 2/49, 4/49, 12/49],\n",
       "  [10/49, 20/49, 1/49, 0, 2/49, 2/49, 3/49, 11/49]],\n",
       " [[30/121, 49/121, 14/121, 28/121],\n",
       "  [35/121, 40/121, 10/121, 10/121, 26/121],\n",
       "  [29/121, 39/121, 6/121, 10/121, 9/121, 28/121],\n",
       "  [29/121, 39/121, 9/121, 6/121, 4/121, 10/121, 24/121],\n",
       "  [30/121, 41/121, 8/121, 4/121, 0, 8/121, 6/121, 24/121]],\n",
       " [[17/75, 71/225, 8/75, 79/225],\n",
       "  [11/45, 23/75, 4/45, 8/225, 73/225],\n",
       "  [17/75, 7/25, 7/75, 17/225, 1/75, 14/45],\n",
       "  [56/225, 64/225, 17/225, 1/25, 7/225, 1/75, 23/75],\n",
       "  [47/225, 61/225, 16/225, 11/225, 4/225, 2/45, 8/225, 68/225]],\n",
       " [[4/11, 119/484, 43/242, 103/484],\n",
       "  [83/242, 61/242, 12/121, 10/121, 27/121],\n",
       "  [38/121, 28/121, 29/242, 9/242, 13/121, 23/121],\n",
       "  [79/242, 28/121, 23/242, 19/484, 23/484, 9/121, 45/242],\n",
       "  [75/242, 105/484, 47/484, 4/121, 13/242, 7/242, 39/484, 87/484]],\n",
       " [[37/90, 6/25, 7/45, 29/150],\n",
       "  [28/75, 107/450, 89/900, 79/900, 91/450],\n",
       "  [2/5, 29/150, 9/100, 19/225, 23/300, 7/45],\n",
       "  [19/50, 11/50, 19/300, 47/900, 49/900, 47/900, 8/45],\n",
       "  [163/450, 44/225, 79/900, 1/25, 11/225, 2/45, 61/900, 23/150]],\n",
       " [[170/441, 94/441, 47/294, 71/294],\n",
       "  [26/63, 361/1764, 23/294, 31/294, 39/196],\n",
       "  [325/882, 323/1764, 40/441, 79/882, 38/441, 107/588],\n",
       "  [331/882, 86/441, 32/441, 4/63, 5/147, 65/882, 82/441],\n",
       "  [52/147, 319/1764, 145/1764, 115/1764, 2/63, 19/588, 137/1764, 311/1764]],\n",
       " [[159/392, 695/3136, 149/784, 573/3136],\n",
       "  [619/1568, 157/784, 179/1568, 11/98, 5/28],\n",
       "  [611/1568, 261/1568, 23/224, 143/1568, 81/784, 115/784],\n",
       "  [73/196, 73/392, 257/3136, 41/784, 87/1568, 255/3136, 267/1568],\n",
       "  [281/784, 33/196, 289/3136, 129/3136, 37/784, 167/3136, 307/3136, 111/784]],\n",
       " [[2699/5929, 16/77, 80/539, 1118/5929],\n",
       "  [2614/5929, 1102/5929, 57/539, 563/5929, 93/539],\n",
       "  [2559/5929, 927/5929, 526/5929, 592/5929, 494/5929, 831/5929],\n",
       "  [2482/5929, 1025/5929, 425/5929, 321/5929, 328/5929, 57/847, 949/5929],\n",
       "  [2448/5929,\n",
       "   81/539,\n",
       "   452/5929,\n",
       "   309/5929,\n",
       "   251/5929,\n",
       "   31/539,\n",
       "   428/5929,\n",
       "   809/5929]],\n",
       " [[4554/10201, 2046/10201, 1542/10201, 2059/10201],\n",
       "  [4358/10201, 1781/10201, 1180/10201, 1065/10201, 1817/10201],\n",
       "  [4195/10201, 1484/10201, 1018/10201, 1167/10201, 883/10201, 1454/10201],\n",
       "  [4069/10201,\n",
       "   1689/10201,\n",
       "   831/10201,\n",
       "   608/10201,\n",
       "   626/10201,\n",
       "   746/10201,\n",
       "   1632/10201],\n",
       "  [4046/10201,\n",
       "   1498/10201,\n",
       "   793/10201,\n",
       "   577/10201,\n",
       "   508/10201,\n",
       "   548/10201,\n",
       "   749/10201,\n",
       "   1482/10201]],\n",
       " [[8488/18225, 1084/6075, 3269/18225, 1072/6075],\n",
       "  [8167/18225, 2998/18225, 2146/18225, 2159/18225, 551/3645],\n",
       "  [2701/6075, 806/6075, 127/1215, 1826/18225, 583/6075, 2224/18225],\n",
       "  [7967/18225, 2747/18225, 58/729, 124/2025, 1021/18225, 1394/18225, 506/3645],\n",
       "  [1508/3645,\n",
       "   779/6075,\n",
       "   557/6075,\n",
       "   989/18225,\n",
       "   316/6075,\n",
       "   61/1215,\n",
       "   1598/18225,\n",
       "   2227/18225]],\n",
       " [[1745/3872, 1473/7744, 83/484, 1453/7744],\n",
       "  [7011/15488, 463/2816, 425/3872, 843/7744, 5089/30976],\n",
       "  [3383/7744, 255/1936, 3/32, 453/3872, 709/7744, 125/968],\n",
       "  [6511/15488,\n",
       "   4627/30976,\n",
       "   2425/30976,\n",
       "   989/15488,\n",
       "   1/16,\n",
       "   2351/30976,\n",
       "   4637/30976],\n",
       "  [3063/7744,\n",
       "   4091/30976,\n",
       "   2665/30976,\n",
       "   1879/30976,\n",
       "   427/7744,\n",
       "   1801/30976,\n",
       "   2647/30976,\n",
       "   3933/30976]],\n",
       " [[9175/17787, 8026/53361, 3334/17787, 7808/53361],\n",
       "  [24851/53361, 391/2541, 6049/53361, 565/4851, 8035/53361],\n",
       "  [3622/7623, 5725/53361, 6079/53361, 4559/53361, 554/4851, 1850/17787],\n",
       "  [23774/53361,\n",
       "   2423/17787,\n",
       "   409/4851,\n",
       "   3221/53361,\n",
       "   3242/53361,\n",
       "   400/4851,\n",
       "   6956/53361],\n",
       "  [1132/2541,\n",
       "   5773/53361,\n",
       "   5030/53361,\n",
       "   325/7623,\n",
       "   417/5929,\n",
       "   751/17787,\n",
       "   452/4851,\n",
       "   503/4851]],\n",
       " [[15134/29403, 12973/88209, 16937/88209, 1433/9801],\n",
       "  [41809/88209, 1192/8019, 10198/88209, 10202/88209, 1432/9801],\n",
       "  [1588/3267, 9233/88209, 3298/29403, 2515/29403, 9569/88209, 9092/88209],\n",
       "  [4/9, 3944/29403, 7358/88209, 5560/88209, 500/8019, 2449/29403, 11408/88209],\n",
       "  [12986/29403,\n",
       "   8975/88209,\n",
       "   8620/88209,\n",
       "   4013/88209,\n",
       "   716/9801,\n",
       "   3998/88209,\n",
       "   8317/88209,\n",
       "   8884/88209]],\n",
       " [[77478/148225, 22882/148225, 26029/148225, 21836/148225],\n",
       "  [10273/21175, 21149/148225, 17097/148225, 17803/148225, 579/4235],\n",
       "  [73974/148225, 15102/148225, 2082/21175, 3072/29645, 2137/21175, 1296/13475],\n",
       "  [9697/21175,\n",
       "   18903/148225,\n",
       "   482/5929,\n",
       "   879/13475,\n",
       "   9557/148225,\n",
       "   221/2695,\n",
       "   18012/148225],\n",
       "  [67394/148225,\n",
       "   15308/148225,\n",
       "   12946/148225,\n",
       "   7654/148225,\n",
       "   10084/148225,\n",
       "   1082/21175,\n",
       "   267/3025,\n",
       "   2026/21175]],\n",
       " [[31324/60025, 34971/240100, 4581/24010, 34023/240100],\n",
       "  [28474/60025, 17427/120050, 7169/60025, 1426/12005, 17077/120050],\n",
       "  [4167/8575, 11603/120050, 6751/60025, 5713/60025, 1959/17150, 5734/60025],\n",
       "  [1065/2401,\n",
       "   29741/240100,\n",
       "   20593/240100,\n",
       "   653/9604,\n",
       "   16663/240100,\n",
       "   20633/240100,\n",
       "   121/980],\n",
       "  [53059/120050,\n",
       "   5734/60025,\n",
       "   814/8575,\n",
       "   461/9604,\n",
       "   9589/120050,\n",
       "   2407/48020,\n",
       "   11509/120050,\n",
       "   1607/17150]],\n",
       " [[23773/43681, 52667/393129, 6758/35739, 17389/131043],\n",
       "  [10235/20691, 18001/131043, 4127/35739, 5117/43681, 17737/131043],\n",
       "  [199543/393129,\n",
       "   1055/11913,\n",
       "   44105/393129,\n",
       "   35677/393129,\n",
       "   44647/393129,\n",
       "   3122/35739],\n",
       "  [181748/393129,\n",
       "   15083/131043,\n",
       "   3767/43681,\n",
       "   9008/131043,\n",
       "   8923/131043,\n",
       "   3758/43681,\n",
       "   44614/393129],\n",
       "  [183725/393129,\n",
       "   34336/393129,\n",
       "   12290/131043,\n",
       "   18569/393129,\n",
       "   30232/393129,\n",
       "   18331/393129,\n",
       "   1972/20691,\n",
       "   33598/393129]],\n",
       " [[4667/8712, 43607/313632, 6575/34848, 21419/156816],\n",
       "  [151051/313632, 87061/627264, 2369/19602, 1405/11616, 86423/627264],\n",
       "  [52693/104544,\n",
       "   55247/627264,\n",
       "   17363/156816,\n",
       "   10547/104544,\n",
       "   17191/156816,\n",
       "   54361/627264],\n",
       "  [8905/19602,\n",
       "   8135/69696,\n",
       "   53833/627264,\n",
       "   22343/313632,\n",
       "   2803/39204,\n",
       "   1625/19008,\n",
       "   72097/627264],\n",
       "  [142973/313632,\n",
       "   1735/19602,\n",
       "   2689/28512,\n",
       "   7841/156816,\n",
       "   25039/313632,\n",
       "   15847/313632,\n",
       "   7399/78408,\n",
       "   2263/26136]],\n",
       " [[141595/251001, 60425/502002, 98047/502002, 30170/251001],\n",
       "  [250741/502002, 14819/111556, 29650/251001, 58963/502002, 132625/1004004],\n",
       "  [132391/251001,\n",
       "   2168/27889,\n",
       "   13021/111556,\n",
       "   42937/502002,\n",
       "   115721/1004004,\n",
       "   19402/251001],\n",
       "  [117158/251001,\n",
       "   36491/334668,\n",
       "   88099/1004004,\n",
       "   23851/334668,\n",
       "   71171/1004004,\n",
       "   28859/334668,\n",
       "   108499/1004004],\n",
       "  [119863/251001,\n",
       "   77093/1004004,\n",
       "   49451/502002,\n",
       "   43945/1004004,\n",
       "   7244/83667,\n",
       "   43757/1004004,\n",
       "   24298/251001,\n",
       "   76735/1004004]],\n",
       " [[880296/1575025, 190496/1575025, 63098/315005, 188743/1575025],\n",
       "  [780859/1575025,\n",
       "   209414/1575025,\n",
       "   187872/1575025,\n",
       "   187669/1575025,\n",
       "   209211/1575025],\n",
       "  [831119/1575025,\n",
       "   121996/1575025,\n",
       "   182671/1575025,\n",
       "   135958/1575025,\n",
       "   181996/1575025,\n",
       "   24257/315005],\n",
       "  [725628/1575025,\n",
       "   6897/63001,\n",
       "   139034/1575025,\n",
       "   113987/1575025,\n",
       "   22907/315005,\n",
       "   138922/1575025,\n",
       "   170494/1575025],\n",
       "  [147594/315005,\n",
       "   4778/63001,\n",
       "   31491/315005,\n",
       "   70513/1575025,\n",
       "   142326/1575025,\n",
       "   71046/1575025,\n",
       "   31607/315005,\n",
       "   23646/315005]],\n",
       " [[1428848/2480625, 291904/2480625, 67412/354375, 287989/2480625],\n",
       "  [1109/2205, 323257/2480625, 294673/2480625, 58726/496125, 1312/10125],\n",
       "  [265943/496125,\n",
       "   181711/2480625,\n",
       "   57292/496125,\n",
       "   31169/354375,\n",
       "   40651/354375,\n",
       "   179999/2480625],\n",
       "  [165559/354375,\n",
       "   7481/70875,\n",
       "   217619/2480625,\n",
       "   182737/2480625,\n",
       "   182486/2480625,\n",
       "   967/11025,\n",
       "   51892/496125],\n",
       "  [1199447/2480625,\n",
       "   179197/2480625,\n",
       "   78706/826875,\n",
       "   37322/826875,\n",
       "   25489/275625,\n",
       "   1789/39375,\n",
       "   235766/2480625,\n",
       "   176023/2480625]]]"
      ]
     },
     "execution_count": 229,
     "metadata": {},
     "output_type": "execute_result"
    }
   ],
   "source": [
    "proportions_list"
   ]
  },
  {
   "cell_type": "code",
   "execution_count": 256,
   "metadata": {
    "scrolled": true
   },
   "outputs": [
    {
     "data": {
      "image/png": "[encoded data removed]",
      "text/plain": [
       "Graphics object consisting of 4 graphics primitives"
      ]
     },
     "metadata": {},
     "output_type": "display_data"
    }
   ],
   "source": [
    "# calculates the residues for m = 4, up to n = 24\n",
    "n = 24\n",
    "m = 4\n",
    "\n",
    "# Pn adds the list of tuples (i, proportion of the table that's i mod m) to the graph P \n",
    "P0 = points([(i, proportions_list[i][m - 4][0]) for i in range(n)])\n",
    "P1 = points([(i,  proportions_list[i][m - 4][1]) for i in range(n)], color = 'red')\n",
    "P2 = points([(i,  proportions_list[i][m - 4][2]) for i in range(n)], color = 'green')\n",
    "P3 = points([(i,  proportions_list[i][m - 4][3]) for i in range(n)], color = 'black')\n",
    "P = P0 + P1 + P2 + P3\n",
    "P.show(axes_labels = (\"n\", \"prop of values in character table\"), axes_labels_size = 1)"
   ]
  },
  {
   "cell_type": "code",
   "execution_count": 257,
   "metadata": {
    "scrolled": true
   },
   "outputs": [
    {
     "data": {
      "image/png": "[encoded data removed]",
      "text/plain": [
       "Graphics object consisting of 5 graphics primitives"
      ]
     },
     "metadata": {},
     "output_type": "display_data"
    }
   ],
   "source": [
    "# calculates the residues for m = 5, up to n = 24\n",
    "n = 24\n",
    "m = 5\n",
    "P0 = points([(i, proportions_list[i][m - 4][0]) for i in range(n)], color = 'blue')\n",
    "P = P0\n",
    "# Pn adds the list of tuples (i, proportion of the table that's i mod m) to the graph P \n",
    "\n",
    "for j in range(1, m) : \n",
    "  P = P + points([(i,  proportions_list[i][m - 4][j]) for i in range(n)], color = 'red')\n",
    "P.show(axes_labels = (\"n\", \"prop of values in character table\"), axes_labels_size = 1)"
   ]
  },
  {
   "cell_type": "code",
   "execution_count": 258,
   "metadata": {
    "scrolled": true
   },
   "outputs": [
    {
     "data": {
      "image/png": "[encoded data removed]",
      "text/plain": [
       "Graphics object consisting of 7 graphics primitives"
      ]
     },
     "metadata": {},
     "output_type": "display_data"
    }
   ],
   "source": [
    "# calculates the residues for m = 7, up to n = 24\n",
    "n = 24\n",
    "m = 7\n",
    "P0 = points([(i, proportions_list[i][m - 4][0]) for i in range(n)], color = 'blue')\n",
    "P = P0\n",
    "# Pn adds the list of tuples (i, proportion of the table that's i mod m) to the graph P \n",
    "\n",
    "for j in range(1, m) : \n",
    "  P = P + points([(i,  proportions_list[i][m - 4][j]) for i in range(n)], color = 'red')\n",
    "P.show(axes_labels = (\"n\", \"prop of values in character table\"), axes_labels_size = 1)"
   ]
  },
  {
   "cell_type": "code",
   "execution_count": 259,
   "metadata": {},
   "outputs": [
    {
     "data": {
      "image/png": "[encoded data removed]",
      "text/plain": [
       "Graphics object consisting of 9 graphics primitives"
      ]
     },
     "metadata": {},
     "output_type": "display_data"
    }
   ],
   "source": [
    "# calculates the residues for m = 9, up to n = 24\n",
    "n = 24\n",
    "m = 9\n",
    "P0 = points([(i, proportions_list[i][m - 4][0]) for i in range(n)], color = 'blue')\n",
    "P = P0\n",
    "\n",
    "# Pn adds the list of tuples (i, proportion of the table that's i mod m) to the graph P \n",
    "\n",
    "for j in range(1, m) : \n",
    "  if j == 2 or j == 5: \n",
    "    \"rip the finagling\"\n",
    "  else : \n",
    "    P = P + points([(i,  proportions_list[i][m - 4][j]) for i in range(n)], color = 'red')\n",
    "    \n",
    "# this is 3 mod 9 \n",
    "P = P + points([(i,  proportions_list[i][m - 4][2]) for i in range(n)], color = 'green')\n",
    "\n",
    "# this is 6 mod 9 \n",
    "P = P + points([(i,  proportions_list[i][m - 4][5]) for i in range(n)], color = 'purple')\n",
    "\n",
    "P.show(axes_labels = (\"n\", \"prop of values in character table\"), axes_labels_size = 1)"
   ]
  },
  {
   "cell_type": "code",
   "execution_count": 209,
   "metadata": {},
   "outputs": [
    {
     "ename": "ModuleNotFoundError",
     "evalue": "No module named 'dill'",
     "output_type": "error",
     "traceback": [
      "\u001b[0;31m---------------------------------------------------------------------------\u001b[0m",
      "\u001b[0;31mModuleNotFoundError\u001b[0m                       Traceback (most recent call last)",
      "\u001b[0;32m<ipython-input-209-edf038076cd6>\u001b[0m in \u001b[0;36m<module>\u001b[0;34m\u001b[0m\n\u001b[0;32m----> 1\u001b[0;31m \u001b[0;32mimport\u001b[0m \u001b[0mdill\u001b[0m\u001b[0;34m\u001b[0m\u001b[0;34m\u001b[0m\u001b[0m\n\u001b[0m\u001b[1;32m      2\u001b[0m \u001b[0mdill\u001b[0m\u001b[0;34m.\u001b[0m\u001b[0mdump_session\u001b[0m\u001b[0;34m(\u001b[0m\u001b[0;34m'notebook_env.db'\u001b[0m\u001b[0;34m)\u001b[0m\u001b[0;34m\u001b[0m\u001b[0;34m\u001b[0m\u001b[0m\n",
      "\u001b[0;31mModuleNotFoundError\u001b[0m: No module named 'dill'"
     ]
    }
   ],
   "source": [
    "pip import dill\n",
    "dill.dump_session('notebook_env.db')"
   ]
  },
  {
   "cell_type": "code",
   "execution_count": 208,
   "metadata": {},
   "outputs": [],
   "source": [
    "# writes the char_table_list to a csv file \n",
    "C = char_table_list\n",
    "  with open(\"n_symm_character_table\" + \".csv\", 'w') as f:\n",
    "            c = csv.writer(f)\n",
    "            c.writerows(C)"
   ]
  },
  {
   "cell_type": "code",
   "execution_count": 260,
   "metadata": {},
   "outputs": [
    {
     "ename": "SyntaxError",
     "evalue": "invalid syntax (<ipython-input-260-c870fd29cace>, line 1)",
     "output_type": "error",
     "traceback": [
      "\u001b[0;36m  File \u001b[0;32m\"<ipython-input-260-c870fd29cace>\"\u001b[0;36m, line \u001b[0;32m1\u001b[0m\n\u001b[0;31m    ipython locate\u001b[0m\n\u001b[0m            ^\u001b[0m\n\u001b[0;31mSyntaxError\u001b[0m\u001b[0;31m:\u001b[0m invalid syntax\n"
     ]
    }
   ],
   "source": []
  },
  {
   "cell_type": "code",
   "execution_count": null,
   "metadata": {},
   "outputs": [],
   "source": []
  }
 ],
 "metadata": {
  "kernelspec": {
   "display_name": "SageMath 9.0",
   "language": "sage",
   "name": "sagemath"
  },
  "language_info": {
   "codemirror_mode": {
    "name": "ipython",
    "version": 3
   },
   "file_extension": ".py",
   "mimetype": "text/x-python",
   "name": "python",
   "nbconvert_exporter": "python",
   "pygments_lexer": "ipython3",
   "version": "3.8.10"
  }
 },
 "nbformat": 4,
 "nbformat_minor": 4
}
