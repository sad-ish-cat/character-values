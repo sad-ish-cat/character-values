{
 "cells": [
  {
   "cell_type": "code",
   "execution_count": 61,
   "id": "162ef9ab",
   "metadata": {},
   "outputs": [],
   "source": [
    "from signed_permutations import * \n",
    "\n",
    "# INPUT: N\n",
    "# OUTPUT: B_n CHAR TABLE\n",
    "def nth_chartable(n) : \n",
    "    W = signed_permutations(n)\n",
    "    return matrix(W.character_table())\n",
    "\n",
    "# HOW MANY CHAR TABLES DO U WANT TO LOOK AT?\n",
    "num_char_tables = 9\n",
    "char_table_list = []\n",
    "for n in range(1, num_char_tables + 1) : \n",
    "    char_table_list.append(nth_chartable(n))\n"
   ]
  },
  {
   "cell_type": "code",
   "execution_count": 64,
   "id": "06aa5589",
   "metadata": {},
   "outputs": [
    {
     "name": "stdout",
     "output_type": "stream",
     "text": [
      "I'm printing the columns in B_2 which are congruent mod 3\n",
      "I'm printing the columns in B_3 which are congruent mod 3\n",
      "[([3], []), ([1, 1, 1], [])]\n",
      "[([], [1, 1, 1]), ([], [3])]\n",
      "I'm printing the columns in B_4 which are congruent mod 3\n",
      "[([3, 1], []), ([1, 1, 1, 1], [])]\n",
      "[([1, 1, 1], [1]), ([3], [1])]\n",
      "[([1], [1, 1, 1]), ([1], [3])]\n",
      "[([], [3, 1]), ([], [1, 1, 1, 1])]\n",
      "I'm printing the columns in B_5 which are congruent mod 3\n",
      "[([3, 1, 1], []), ([1, 1, 1, 1, 1], [])]\n",
      "[([1, 1, 1, 1], [1]), ([3, 1], [1])]\n",
      "[([3], [1, 1]), ([1, 1, 1], [1, 1])]\n",
      "[([1, 1], [1, 1, 1]), ([1, 1], [3])]\n",
      "[([1], [3, 1]), ([1], [1, 1, 1, 1])]\n",
      "[([], [1, 1, 1, 1, 1]), ([], [3, 1, 1])]\n",
      "[([2, 1, 1, 1], []), ([3, 2], [])]\n",
      "[([3], [2]), ([1, 1, 1], [2])]\n",
      "[([2], [3]), ([2], [1, 1, 1])]\n",
      "[([], [2, 1, 1, 1]), ([], [3, 2])]\n",
      "I'm printing the columns in B_6 which are congruent mod 3\n",
      "[([3], [3]), ([1, 1, 1], [3]), ([3], [1, 1, 1]), ([1, 1, 1], [1, 1, 1])]\n",
      "[([3, 3], []), ([3, 1, 1, 1], []), ([1, 1, 1, 1, 1, 1], [])]\n",
      "[([], [3, 3]), ([], [3, 1, 1, 1]), ([], [1, 1, 1, 1, 1, 1])]\n",
      "[([3, 1, 1], [1]), ([1, 1, 1, 1, 1], [1])]\n",
      "[([3, 1], [1, 1]), ([1, 1, 1, 1], [1, 1])]\n",
      "[([1, 1], [3, 1]), ([1, 1], [1, 1, 1, 1])]\n",
      "[([1], [3, 1, 1]), ([1], [1, 1, 1, 1, 1])]\n",
      "[([3, 2, 1], []), ([2, 1, 1, 1, 1], [])]\n",
      "[([3, 1], [2]), ([1, 1, 1, 1], [2])]\n",
      "[([3, 2], [1]), ([2, 1, 1, 1], [1])]\n",
      "[([3], [2, 1]), ([1, 1, 1], [2, 1])]\n",
      "[([2, 1], [3]), ([2, 1], [1, 1, 1])]\n",
      "[([1], [3, 2]), ([1], [2, 1, 1, 1])]\n",
      "[([2], [3, 1]), ([2], [1, 1, 1, 1])]\n",
      "[([], [3, 2, 1]), ([], [2, 1, 1, 1, 1])]\n",
      "[([6], []), ([2, 2, 2], [])]\n",
      "[([], [2, 2, 2]), ([], [6])]\n"
     ]
    }
   ],
   "source": [
    "\n",
    "def col_equivs_graph(n,m):\n",
    "    # given an n and m, returns the conjugacy classes which are congruent mod m\n",
    "    before_mod = matrix(ZZ, char_table_list[n-1])\n",
    "    G = Graph([ (x,y)\n",
    "        # generates our list of G.connected_components() which are congruent columns\n",
    "        for x in before_mod.columns()\n",
    "        for y in before_mod.columns()\n",
    "        if x!=y and vector(ZZ.quo(m),x) == vector(ZZ.quo(m),y)\n",
    "    ])\n",
    "    labels = []\n",
    "    for i in G.connected_components():\n",
    "        labels.append(list(map(\n",
    "            lambda x: column_to_signed_partition(n,x), \n",
    "            #lambda defines a function object which takes x to the expression after the colon\n",
    "            #this helps us use the map command on a function which requires two inputs\n",
    "            i\n",
    "        )\n",
    "        )\n",
    "        )\n",
    "    print(\"I'm printing the columns in B_\" + str(n) + \" which are congruent mod \" + str(m))\n",
    "    for i in labels:\n",
    "        print(i)\n",
    "    return 0\n",
    "\n",
    "\n",
    "mod = 3\n",
    "for i in range (2,7):\n",
    "    col_equivs_graph(i,mod)\n",
    "\n",
    "\n",
    "\n",
    "def col_labels(n):\n",
    "# INPUT: n of B_n\n",
    "# OUTPUT: conjugacy classes (labels of columns)\n",
    "    W = signed_permutations(n)\n",
    "    col_reps = W.conjugacy_classes_representatives()\n",
    "    col_labs = []\n",
    "    for i in col_reps:\n",
    "        col_labs.append(signed_cycle_type(n,i))\n",
    "    return(col_labs)\n",
    "                    \n",
    "\n",
    "def column_to_signed_partition(n, col):\n",
    "    #given a column of the character table A, returns the corresponding cycle type\n",
    "    A = nth_chartable(n)\n",
    "    index = A.columns().index(col)\n",
    "    return tuple(col_labels(n)[index])\n",
    "\n",
    "\n"
   ]
  },
  {
   "cell_type": "code",
   "execution_count": 13,
   "id": "c4956bb6",
   "metadata": {},
   "outputs": [],
   "source": [
    "# residue calculator returns the list of the numbers \n",
    "def residue_calculator(n, m) : \n",
    "  A = matrix(ZZ.quotient(m), char_table_list[n - 1]) \n",
    "  num_entries = len(A.columns())**2 \n",
    "  residues_list = [0 for i in range(m)] \n",
    "  count = 0 \n",
    "  for j in A : \n",
    "      for k in j : \n",
    "          residues_list[k] += 1\n",
    "  for i in range(m) : \n",
    "    residues_list[i] = residues_list[i] / num_entries\n",
    "  return residues_list \n",
    "\n",
    "proportions_list = []\n",
    "\n",
    "# fills the residues list - each item of the list, from n = 1 to n = num_symm_groups\n",
    "for n in range(num_char_tables) : \n",
    "  single_prop_list = []\n",
    "  for m in [4,5,6,7,8,9] :\n",
    "    single_prop_list.append(residue_calculator(n, m))\n",
    "  proportions_list.append(single_prop_list)"
   ]
  },
  {
   "cell_type": "code",
   "execution_count": 17,
   "id": "b2af4aa0",
   "metadata": {},
   "outputs": [
    {
     "data": {
      "image/png": "[encoded data removed]",
      "text/plain": [
       "Graphics object consisting of 4 graphics primitives"
      ]
     },
     "metadata": {},
     "output_type": "display_data"
    }
   ],
   "source": [
    "# Generate Mod 4 Plot\n",
    "\n",
    "n = num_char_tables\n",
    "m = 4\n",
    "\n",
    "SUB = str.maketrans(\"0123456789n\", \"₀₁₂₃₄₅₆₇₈₉ₙ\")\n",
    "SUP = str.maketrans(\"0123456789\", \"⁰¹²³⁴⁵⁶⁷⁸⁹\")\n",
    "\n",
    "# Pn adds the list of tuples (i, proportion of the table that's i mod m) to the graph P \n",
    "P0 = points([(i, proportions_list[i][m - 4][0]) for i in range(n)], color = 'hotpink', legend_label = '0 mod 4')\n",
    "P1 = points([(i,  proportions_list[i][m - 4][1]) for i in range(n)], color = 'indigo', legend_label = '1 mod 4')\n",
    "P2 = points([(i,  proportions_list[i][m - 4][2]) for i in range(n)], color = 'pink', legend_label = '2 mod 4')\n",
    "P3 = points([(i,  proportions_list[i][m - 4][3]) for i in range(n)], color = 'purple', legend_label = '3 mod 4')\n",
    "P = P0 + P1 + P2 + P3\n",
    "P.show(axes_labels = (\"n\", \"prop of values in character table\"), axes_labels_size = 1, title= 'A PLOT OF THE PROPORTION OF EACH RESIDUE OF THE CHARACTER VALUES MOD 4 FOR ' + 'Bn'.translate(SUB) + ' UP TO ' + 'B7'.translate(SUB), title_pos = (0.5, 0.9), show_legend = true, legend_markerscale = 1.2)\n",
    "\n"
   ]
  },
  {
   "cell_type": "code",
   "execution_count": null,
   "id": "bc9305cd",
   "metadata": {},
   "outputs": [],
   "source": []
  }
 ],
 "metadata": {
  "kernelspec": {
   "display_name": "SageMath 9.5",
   "language": "sage",
   "name": "sagemath-9.5"
  },
  "language_info": {
   "codemirror_mode": {
    "name": "ipython",
    "version": 3
   },
   "file_extension": ".py",
   "mimetype": "text/x-python",
   "name": "python",
   "nbconvert_exporter": "python",
   "pygments_lexer": "ipython3",
   "version": "3.9.9"
  }
 },
 "nbformat": 4,
 "nbformat_minor": 5
}
